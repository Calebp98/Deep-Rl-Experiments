{
 "cells": [
  {
   "cell_type": "markdown",
   "metadata": {},
   "source": [
    "## Lab Overview\n",
    "\n",
    "### Introduction\n",
    "- Assume a neural network composed of three layers of neurons: input layer, hidden layer and output layer. We wish to train this network so when it is presented with a specific input it will have a certain output.\n",
    "- For this lab we are going to work with the [MNIST database of handwritten digits](http://yann.lecun.com/exdb/mnist) and train our network to recognise handwritten 0-9 digits. The MNIST database contains 60000 images which can used to train the network and 10000 more images for testing purposes. Each image is an  matrix representing a digit."
   ]
  },
  {
   "cell_type": "markdown",
   "metadata": {},
   "source": [
    "<img src=\"nn.png\" alt=\"neural-net\" style=\"width: 400px;\"/>"
   ]
  },
  {
   "cell_type": "markdown",
   "metadata": {},
   "source": [
    "### The neural network\n",
    "\n",
    "- **Network initialisation:**\n",
    "\n",
    "\n",
    "1. Generate a set of weights between the input and the hidden layer. The input layer should have 784 neurons, one for each pixel of the image.\n",
    "\n",
    "2. Generate a set of weights between the hidden and the output layer. The output layer should have 10 neurons, one for each digit.\n",
    "\n",
    "3. Generate two sets of bias, one for the hidden layer and one for the output layer. Bias is set to 1 and it is an extra input to the neurons in order to avoid zero activation (all inputs equal to 0).   \n",
    "\n",
    "\n",
    "- **Feedforward:**\n",
    "\n",
    "\n",
    "1. Feed an image $\\vec{x_k}$ to the network,\n",
    "   \n",
    "\n",
    "2. Compute the input to each of the neurons of the hidden layer, $act_{h_i} = \\sum_{i=1}^{784}w_i x_i + bias$ and their outputs with the use of the [sigmoid function](http://mathworld.wolfram.com/SigmoidFunction.html),$out_{h_i} = \\frac{1}{(1+e^{-act_i})}$.\n",
    "\n",
    "3. Repeat for the output layer.\n",
    "\n",
    "<img src=\"nn1.png\" alt=\"neural-net\" style=\"width: 400px;\"/>\n",
    "\n",
    "\n",
    "- **Error:**\n",
    "\n",
    "1. Calculate the error in the output of the neural network. Given as input a zero image it is expected that the first neuron of the input layer to be fully active, i.e has an output of 1, while the rest neuron to have outputs of 0. Thus the target output would be $target = [1,0,0,\\dots,0]^T$ and given that the output of the neural network is some $output$ the error is given by the formula $E = \\sum_{i=1}^{n}\\frac{1}{2}(target_i-output_i)^2$ where $n$ is the number of neurons in the output layer of the network. \n",
    "\n",
    "<img src=\"nn2.png\" alt=\"neural-net\" style=\"width: 400px;\"/>\n",
    "\n",
    "\n",
    "- **Backpropagation:**\n",
    "\n",
    "\n",
    "1. Apply the delta rule between the output and the hidden layers. For the weight $w_{ij}$ we have $\\frac{\\vartheta E}{\\vartheta w_{\\textrm{ij}} }=\\frac{\\vartheta E}{\\vartheta {\\textrm{out}}_{o_i } }\\;\\frac{\\vartheta {\\textrm{out}}_{o_i } }{\\vartheta {\\textrm{act}}_{o_j } }\\;\\frac{\\vartheta {\\textrm{act}}_{o_j } }{\\vartheta w_{\\textrm{ij}} }\\;=-\\left({\\textrm{target}}_i -{\\textrm{output}}_i \\right){\\;\\textrm{out}}_{o_i } \\;\\left(1-{\\textrm{out}}_{o_i } \\right)\\;{\\textrm{out}}_{h_j }$, where $\\delta_{o_i } =\\left({\\textrm{target}}_i -{\\textrm{output}}_i \\right){\\;\\textrm{out}}_{o_i } \\;\\left(1-{\\textrm{out}}_{o_i } \\right)$.\n",
    "\n",
    "2. Update the weights between the hidden and the output layers.  For the weight $w_{ij}$ we have ${\\Delta w}_{\\textrm{ij}} =-\\eta \\delta_{{\\textrm{out}}_i } {\\textrm{out}}_{h_j }$.\n",
    "\n",
    "3. Repeat steps 1 and 2 between the hidden and the input layes and update the weights between them. Here for the weight $w_{ij}$ we have $\\frac{\\vartheta E}{\\vartheta w_{\\textrm{ij}} }=\\frac{\\vartheta E}{\\vartheta {\\textrm{out}}_{h_i } }\\;\\frac{\\vartheta {\\textrm{out}}_{h_i } }{\\vartheta {\\textrm{act}}_{h_j } }\\;\\frac{\\vartheta {\\textrm{act}}_{h_j } }{\\vartheta w_{\\textrm{ij}} }={\\textrm{out}}_{h_i } \\left(1-{\\textrm{out}}_{o_i } \\right)\\left(w_{\\textrm{ij}}^{\\left(2\\right)} \\delta_{o_j }^{\\left(2\\right)} \\right)$, where the terms $w_{\\textrm{ij}}^{\\left(2\\right)} \\delta_j^{\\left(2\\right)}$ are the weights and the delta function of the previous layer.\n",
    "\n",
    "4. Update the weights between the hidden and the input layers. For the weight $w_{ij}$ we have ${\\Delta w}_{\\textrm{ij}} =-\\eta \\delta_{h_i } x_j$.\n",
    "\n",
    "<img src=\"nn3.png\" alt=\"neural-net\" style=\"width: 400px;\"/>"
   ]
  },
  {
   "cell_type": "markdown",
   "metadata": {},
   "source": [
    "### Exercise\n",
    "\n",
    "The code provided first loads the MNIST database and generates a neural network using the parameters provided. Then it trains the network and tests it using the testing set of the MNIST database.\n",
    "\n",
    "1. Tune the network by finding appropriate values for the parameters: number of epochs, number of neurons of the hidden layer and learning rate.\n",
    "\n",
    "2. Test the network using the test dataset and compute it's accuracy.\n",
    "\n",
    "3. The weights are generating from a uniformly distribution in the interval (0,1) and are then normalized using the sum equals to 1 normalization, i.e the summation of the inputs should be equal to 1. Why is normalization important? Another initialisation method is the [Xavier initialization](http://www.jmlr.org/proceedings/papers/v9/glorot10a/glorot10a.pdf?hc_location=ufi), which is more commonly used in deep neural networks of more than one hidden layer\n",
    "\n",
    "4. Upgrade the network by adding one more hidden layer, derive the appropriate formulas for the feedforward and the backpropagation and program them."
   ]
  },
  {
   "cell_type": "code",
   "execution_count": 1,
   "metadata": {},
   "outputs": [],
   "source": [
    "import numpy as np;\n",
    "import numpy.matlib \n",
    "import math\n",
    "import matplotlib.pyplot as plt\n",
    "import csv"
   ]
  },
  {
   "cell_type": "code",
   "execution_count": 2,
   "metadata": {},
   "outputs": [],
   "source": [
    "# Read the train set\n",
    "x_train = np.loadtxt('train-images.idx3-ubyte.txt')\n",
    "# Read the train labels\n",
    "trainlabels = np.loadtxt('train-labels.idx1-ubyte.txt')\n",
    "# Read the test set\n",
    "x_test = np.loadtxt('t10k-images.idx3-ubyte.txt')\n",
    "# Read the test labels\n",
    "testlabels = np.loadtxt('t10k-labels.idx1-ubyte.txt')"
   ]
  },
  {
   "cell_type": "code",
   "execution_count": 3,
   "metadata": {},
   "outputs": [],
   "source": [
    "np.random.seed(0)"
   ]
  },
  {
   "cell_type": "code",
   "execution_count": 5,
   "metadata": {},
   "outputs": [],
   "source": [
    "y_train=np.zeros((10,trainlabels.shape[0]))\n",
    "y_test=np.zeros((10,testlabels.shape[0]))\n",
    "\n",
    "for i in range(0,trainlabels.shape[0]):\n",
    "    \n",
    "    y_train[trainlabels[i].astype(int),i]=1\n",
    "    \n",
    "for i in range(0,testlabels.shape[0]):\n",
    "    \n",
    "    y_test[testlabels[i].astype(int),i]=1\n",
    "\n"
   ]
  },
  {
   "cell_type": "code",
   "execution_count": 6,
   "metadata": {},
   "outputs": [],
   "source": [
    "[p,n]=x_train.shape\n",
    "nlabels=10\n",
    "\n",
    "[p2,n2]=x_test.shape"
   ]
  },
  {
   "cell_type": "code",
   "execution_count": 7,
   "metadata": {},
   "outputs": [],
   "source": [
    "n_epoch=45\n",
    "n_batch=32\n",
    "n_input_layer=p #number of neurons on input layer\n",
    "n_hidden_layer=10 #number of neurons on hidden layer\n",
    "n_output_layer=nlabels #number of neurons on output layer\n",
    "eta=0.5"
   ]
  },
  {
   "cell_type": "code",
   "execution_count": 8,
   "metadata": {},
   "outputs": [],
   "source": [
    "# Initialize a simple network\n",
    "#For W1 and W2, columns are the input and the rows are the output.\n",
    "#W1: Number of columns (input) needs to be equal to the number of features \n",
    "#    of the  MNIST digits, thus p. Number of rows (output) should be equal \n",
    "#    to the number of neurons of the hidden layer thus n_hidden_layer.\n",
    "#W2: Number of columns (input) needs to be equal to the number of neurons \n",
    "#    of the hidden layer. Number of rows (output) should be equal to the \n",
    "#    number of digits we wish to find (classification).\n",
    "\n",
    "# create random matrix of weight (uniformally distrubuted)\n",
    "W1=np.random.uniform(0,1,(n_hidden_layer,n_input_layer)); \n",
    "# normalise w1 (not really sure why but i can live with this)\n",
    "W1=np.divide(W1,np.matlib.repmat(np.sum(W1,1)[:,None],1,n_input_layer));\n",
    "\n",
    "W2=np.random.uniform(0,1,(n_output_layer,n_hidden_layer));\n",
    "W2=np.divide(W2,np.matlib.repmat(np.sum(W2,1)[:,None],1,n_hidden_layer));\n",
    "\n",
    "\n"
   ]
  },
  {
   "cell_type": "code",
   "execution_count": 9,
   "metadata": {},
   "outputs": [],
   "source": [
    "# Initialize the biases\n",
    "\n",
    "# set all biases to one\n",
    "bias_W1=np.ones((n_hidden_layer,))\n",
    "bias_W2=np.ones((n_output_layer,))\n",
    "\n",
    "# Keep track of the network inputs and average error per epoch\n",
    "errors=np.zeros((n_epoch,));"
   ]
  },
  {
   "cell_type": "code",
   "execution_count": 10,
   "metadata": {},
   "outputs": [],
   "source": [
    "# Train the network\n",
    "\n",
    "# do this for every epoch\n",
    "for i in range(0,n_epoch):\n",
    "\n",
    "# for every element of the batch\n",
    "    for j in range(0,n_batch):\n",
    "        \n",
    "        # Input (random element from the dataset)\n",
    "        idx=np.random.randint(0,n); # get some index\n",
    "        x=x_train[:,idx] #set x to a certain image (in vector form)\n",
    "        \n",
    "        # Neural activation: input layer -> hidden layer\n",
    "        act1=np.dot(W1,x)+bias_W1 # calculate activations of next layer (just dot product of image and weights + bias)\n",
    "        # Apply the sigmoid function\n",
    "        out1=1/(1+np.exp(-act1)) #sigmoidal function from maths and stuff\n",
    "    \n",
    "        # Neural activation: hidden layer -> output layer\n",
    "        act2=np.dot(W2,out1)+bias_W2 # then do the same thing for the next layer\n",
    "        # Apply the sigmoid function\n",
    "        out2=1/(1+np.exp(-act2))\n",
    "        \n",
    "#         # Neural activation: hidden layer -> output layer\n",
    "#         act3=np.dot(W2,out2)+bias_W3 # then do the same thing for the next layer\n",
    "#         # Apply the sigmoid function\n",
    "#         out3=1/(1+np.exp(-act3))\n",
    "        \n",
    "        # Form the desired output, the correct neuron should have 1 the rest 0\n",
    "        desired_output=y_train[:,idx] #get label\n",
    "\n",
    "#         #  extra layer for task      \n",
    "#         # Backpropagation: output layer -> hidden layer\n",
    "#         out3delta=out3*(1-out3)*(out3-desired_output) \n",
    "#         W3=W3-eta*np.outer(out3delta,out2)\n",
    "\n",
    "        # Backpropagation: hidden layer -> hidden layer\n",
    "        out2delta=out2*(1-out2)*(out2-desired_output) \n",
    "        W2=W2-eta*np.outer(out2delta,out1)\n",
    "        \n",
    "        # Backpropagation: hidden layer -> input layer\n",
    "        out1delta=out1*(1-out1)*np.dot(W2.T,out2delta)\n",
    "        W1=W1-eta*np.outer(out1delta,x)\n",
    "        \n",
    "        # Store the error per epoch\n",
    "        errors[i]=errors[i]+np.sum((out2-desired_output)*(out2-desired_output))/n_batch\n",
    "        \n",
    "#  "
   ]
  },
  {
   "cell_type": "code",
   "execution_count": 11,
   "metadata": {},
   "outputs": [
    {
     "data": {
      "image/png": "[encoded data removed]",
      "text/plain": [
       "<Figure size 432x288 with 1 Axes>"
      ]
     },
     "metadata": {
      "needs_background": "light"
     },
     "output_type": "display_data"
    }
   ],
   "source": [
    "# Plot the performance\n",
    "plt.plot(errors)\n",
    "plt.xlabel('Epoch')\n",
    "plt.ylabel('Error')\n",
    "plt.title('Average error per epoch')\n",
    "plt.show()"
   ]
  },
  {
   "cell_type": "code",
   "execution_count": 12,
   "metadata": {},
   "outputs": [],
   "source": [
    "# TODO: use the test set to compute the network's accuracy\n",
    "\n",
    "for j in range(0,n_batch):\n",
    "\n",
    "    # Input (random element from the dataset)\n",
    "    idx=np.random.randint(0,n2); # get some index\n",
    "    x=x_test[:,idx] #set x to a certain image (in vector form)\n",
    "\n",
    "    # Neural activation: input layer -> hidden layer\n",
    "    act1=np.dot(W1,x)+bias_W1 # calculate activations of next layer (just dot product of image and weights + bias)\n",
    "    # Apply the sigmoid function\n",
    "    out1=1/(1+np.exp(-act1)) #sigmoidal function from maths and stuff\n",
    "\n",
    "    # Neural activation: hidden layer -> output layer\n",
    "    act2=np.dot(W2,out1)+bias_W2 # then do the same thing for the next layer\n",
    "    # Apply the sigmoid function\n",
    "    out2=1/(1+np.exp(-act2))\n",
    "    \n",
    "    # Form the desired output, the correct neuron should have 1 the rest 0\n",
    "    desired_output=y_test[:,idx] #get label\n",
    "    \n",
    "# Store the error on the test set\n",
    "errors=np.sum((out2-desired_output)*(out2-desired_output))/n_batch\n",
    "\n",
    "\n",
    "\n"
   ]
  },
  {
   "cell_type": "code",
   "execution_count": 13,
   "metadata": {},
   "outputs": [
    {
     "data": {
      "text/plain": [
       "0.03551150037984231"
      ]
     },
     "execution_count": 13,
     "metadata": {},
     "output_type": "execute_result"
    }
   ],
   "source": [
    "errors"
   ]
  },
  {
   "cell_type": "code",
   "execution_count": null,
   "metadata": {},
   "outputs": [],
   "source": []
  },
  {
   "cell_type": "code",
   "execution_count": null,
   "metadata": {},
   "outputs": [],
   "source": []
  },
  {
   "cell_type": "code",
   "execution_count": null,
   "metadata": {},
   "outputs": [],
   "source": []
  }
 ],
 "metadata": {
  "kernelspec": {
   "display_name": "Python 3",
   "language": "python",
   "name": "python3"
  },
  "language_info": {
   "codemirror_mode": {
    "name": "ipython",
    "version": 3
   },
   "file_extension": ".py",
   "mimetype": "text/x-python",
   "name": "python",
   "nbconvert_exporter": "python",
   "pygments_lexer": "ipython3",
   "version": "3.7.0"
  }
 },
 "nbformat": 4,
 "nbformat_minor": 2
}
